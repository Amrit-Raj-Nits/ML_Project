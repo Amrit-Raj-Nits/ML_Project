{
 "cells": [
  {
   "cell_type": "code",
   "execution_count": 1,
   "metadata": {},
   "outputs": [
    {
     "name": "stdout",
     "output_type": "stream",
     "text": [
      "[[1714045 'M' 1000 ... 'MB' 3 'M1, M2, M4, M7']\n",
      " [1912146 'F' 3000 ... 'MB' 4 'M7']\n",
      " [1912003 'F' 2000 ... 'MB' 3 'M1, M4, M7, M8']\n",
      " ...\n",
      " [1912046 'M' 2000 ... 'MB' 4 'M1, M2, M4, M7, M8']\n",
      " [1912094 'M' 1000 ... 'BB' 2 'M1, M2, M3, M4']\n",
      " [1912076 'M' 2000 ... 'MB' 5 'M1, M2, M3, M4, M8']]\n",
      "[[1714045 'M' 1000 ... 0 0 0]\n",
      " [1912146 'F' 3000 ... 0 0 0]\n",
      " [1912003 'F' 2000 ... 0 0 0]\n",
      " ...\n",
      " [1912046 'M' 2000 ... 0 0 1]\n",
      " [1912094 'M' 1000 ... 0 0 1]\n",
      " [1912076 'M' 2000 ... 0 0 1]]\n",
      "[[1714045 'M' 1000 ... 0 0 1]\n",
      " [1912146 'F' 3000 ... 0 1 0]\n",
      " [1912003 'F' 2000 ... 0 1 0]\n",
      " ...\n",
      " [1912046 'M' 2000 ... 1 0 1]\n",
      " [1912094 'M' 1000 ... 1 0 1]\n",
      " [1912076 'M' 2000 ... 1 0 1]]\n",
      "[[1714045 1000 112 ... 0 0 0]\n",
      " [1912146 3000 112 ... 0 0 0]\n",
      " [1912003 2000 201 ... 0 0 0]\n",
      " ...\n",
      " [1912046 2000 'W110' ... 1 0 0]\n",
      " [1912094 1000 'W019' ... 1 0 0]\n",
      " [1912076 2000 'W206' ... 0 0 0]]\n",
      "[[1714045 1000 112 ... 0 0 1]\n",
      " [1912146 3000 112 ... 0 0 1]\n",
      " [1912003 2000 201 ... 0 0 1]\n",
      " ...\n",
      " [1912046 2000 'W110' ... 0 0 1]\n",
      " [1912094 1000 'W019' ... 1 0 0]\n",
      " [1912076 2000 'W206' ... 0 0 1]]\n"
     ]
    },
    {
     "name": "stderr",
     "output_type": "stream",
     "text": [
      "C:\\Users\\ANKIT\\Anaconda3\\lib\\site-packages\\ipykernel_launcher.py:87: SettingWithCopyWarning: \n",
      "A value is trying to be set on a copy of a slice from a DataFrame\n",
      "\n",
      "See the caveats in the documentation: http://pandas.pydata.org/pandas-docs/stable/user_guide/indexing.html#returning-a-view-versus-a-copy\n",
      "C:\\Users\\ANKIT\\Anaconda3\\lib\\site-packages\\ipykernel_launcher.py:109: SettingWithCopyWarning: \n",
      "A value is trying to be set on a copy of a slice from a DataFrame\n",
      "\n",
      "See the caveats in the documentation: http://pandas.pydata.org/pandas-docs/stable/user_guide/indexing.html#returning-a-view-versus-a-copy\n"
     ]
    },
    {
     "data": {
      "text/plain": [
       "'\\n\\nFor usage:\\n0 - Scholar ID\\n1 - Income\\n2 - No. of friends\\n3 - Interaction with seniors\\n4-7 - Region\\n8 - Male\\n9-14 - Goals\\n15-17 - Seats\\n18-21 - Hobbies\\n22-26 - Nasha\\n27-35 - Music taste\\n\\n'"
      ]
     },
     "execution_count": 1,
     "metadata": {},
     "output_type": "execute_result"
    }
   ],
   "source": [
    "import numpy as np\n",
    "import matplotlib.pyplot as plt\n",
    "import pandas as pd\n",
    "import seaborn as sns\n",
    "\n",
    "#basic plotting detailing...........\n",
    "\n",
    "#set font size of labels on matplotlib plots\n",
    "plt.rc('font', size=16)\n",
    "\n",
    "#set style of plots\n",
    "sns.set_style('white')\n",
    "\n",
    "#define a custom palette\n",
    "customPalette = ['#630C3A', '#39C8C6', '#D3500C', '#FFB139']\n",
    "sns.set_palette(customPalette)\n",
    "sns.palplot(customPalette)\n",
    "#Plotting detailing ends here...........\n",
    "\n",
    "dataset=pd.read_excel('Project_Data.xlsx')\n",
    "#check=dataset.iloc[:, 13].values\n",
    "x=dataset.iloc[:, 1:14].values\n",
    "print(x)\n",
    "\n",
    "#Getting rid of categorical data of region...\n",
    "category_Hot_Encoded=pd.get_dummies(x[:, 4])\n",
    "x=np.append(x, category_Hot_Encoded, axis=1)\n",
    "print(x)\n",
    "x=np.delete(x, 4, 1)\n",
    "\n",
    "#Getting rid of categorical data of Gender...\n",
    "category_Hot_Encoded=pd.get_dummies(x[:, 1])\n",
    "x=np.append(x, category_Hot_Encoded, axis=1)\n",
    "print(x)\n",
    "x=np.delete(x, 1, 1)\n",
    "\n",
    "#Now we remove the female categorical data to avoid the categorical data trap\n",
    "x=np.delete(x, 15, 1)\n",
    "\n",
    "#Getting rid of categorical data of Goals...\n",
    "category_Hot_Encoded=pd.get_dummies(x[:, 4])\n",
    "x=np.append(x, category_Hot_Encoded, axis=1)\n",
    "print(x)\n",
    "x=np.delete(x, 4, 1)\n",
    "\n",
    "#Getting rid of categorical data of Seats...\n",
    "category_Hot_Encoded=pd.get_dummies(x[:, 7])\n",
    "x=np.append(x, category_Hot_Encoded, axis=1)\n",
    "print(x)\n",
    "x=np.delete(x, 7, 1)# This removes the region coulumm which in turn would be replaced by category_Hot_Encoded\n",
    "\n",
    "x_copy=x#This is used to maintain a x copy in object form\n",
    "x=pd.DataFrame(x)\n",
    "\n",
    "#Hobbies\n",
    "clist = ['Game','Musical','Gym','Others']\n",
    "for i in range(0, 325):\n",
    "    list1 = x[3][i].split(', ')\n",
    "    list2 = [0, 0, 0, 0]\n",
    "    \n",
    "    for j in range(0, 4):\n",
    "        if clist[j] in list1:\n",
    "            list2[j] = 1 \n",
    "    x[3][i] = list2\n",
    "    \n",
    "    \n",
    "tags = x[3].apply(pd.Series)\n",
    "tags = tags.rename(columns = lambda a : 'tag_' + str(a))\n",
    "x = pd.concat([x[:], tags[:]], axis=1)\n",
    "x=pd.DataFrame(x)\n",
    "x.rename(columns = {'tag_0':'Game'}, inplace = True)\n",
    "x.rename(columns = {'tag_1':'Musical'}, inplace = True)\n",
    "x.rename(columns = {'tag_2':'Gym'}, inplace = True)\n",
    "x.rename(columns = {'tag_3':'Others'}, inplace = True)\n",
    "\n",
    "#Delete column number 3(Hobbies) from the x...\n",
    "x=x.drop(labels=3, axis=1)\n",
    "\n",
    "#Nasha\n",
    "clist = ['A','G','C','X','N']\n",
    "for i in range(0, 325):\n",
    "    list1 = x[6][i].split(', ')\n",
    "    list2 = [0, 0, 0, 0, 0]\n",
    "    for j in range(0, 5):\n",
    "        if clist[j] in list1:\n",
    "            list2[j] = 1    \n",
    "    x[6][i] = list2\n",
    " \n",
    "tags = x[6].apply(pd.Series)\n",
    "tags = tags.rename(columns = lambda a : 'tag_' + str(a))\n",
    "x = pd.concat([x[:], tags[:]], axis=1)\n",
    "x=pd.DataFrame(x)\n",
    "x.rename(columns = {'tag_0':'A'}, inplace = True)\n",
    "x.rename(columns = {'tag_1':'G'}, inplace = True)\n",
    "x.rename(columns = {'tag_2':'C'}, inplace = True)\n",
    "x.rename(columns = {'tag_3':'X'}, inplace = True)\n",
    "x.rename(columns = {'tag_4':'N'}, inplace = True)\n",
    "x=x.drop(labels=6, axis=1)#Dropping Nasha column\n",
    "\n",
    "#Music taste\n",
    "clist = ['M1','M2','M3','M4','M5','M6','M7','M8','Others']\n",
    "for i in range(0, 325):\n",
    "    list1 = x[8][i].split(', ')\n",
    "    list2 = [0, 0, 0, 0, 0, 0, 0, 0, 0]\n",
    "    for j in range(0, 9):\n",
    "        if clist[j] in list1:\n",
    "            list2[j] = 1\n",
    "            \n",
    "    x[8][i] = list2\n",
    "    \n",
    "    \n",
    "tags = x[8].apply(pd.Series)\n",
    "tags = tags.rename(columns = lambda a : 'tag_' + str(a))\n",
    "x = pd.concat([x[:], tags[:]], axis=1)\n",
    "x=pd.DataFrame(x)\n",
    "x.rename(columns = {'tag_0':'M1'}, inplace = True)\n",
    "x.rename(columns = {'tag_1':'M2'}, inplace = True)\n",
    "x.rename(columns = {'tag_2':'M3'}, inplace = True)\n",
    "x.rename(columns = {'tag_3':'M4'}, inplace = True)\n",
    "x.rename(columns = {'tag_4':'M5'}, inplace = True)\n",
    "x.rename(columns = {'tag_5':'M6'}, inplace = True)\n",
    "x.rename(columns = {'tag_6':'M7'}, inplace = True)\n",
    "x.rename(columns = {'tag_7':'M8'}, inplace = True)\n",
    "x.rename(columns = {'tag_8':'Others'}, inplace = True)\n",
    "x=x.drop(labels=8, axis=1)# This removes the Music coulumm\n",
    "x=x.drop(labels=5, axis=1)# This removes the Friends coulumm\n",
    "x=x.drop(labels=2, axis=1)# This removes the Music coulumm\n",
    "\n",
    "\"\"\"\n",
    "\n",
    "For usage:\n",
    "0 - Scholar ID\n",
    "1 - Income\n",
    "2 - No. of friends\n",
    "3 - Interaction with seniors\n",
    "4-7 - Region\n",
    "8 - Male\n",
    "9-14 - Goals\n",
    "15-17 - Seats\n",
    "18-21 - Hobbies\n",
    "22-26 - Nasha\n",
    "27-35 - Music taste\n",
    "\n",
    "\"\"\""
   ]
  },
  {
   "cell_type": "code",
   "execution_count": 2,
   "metadata": {},
   "outputs": [
    {
     "data": {
      "image/png": "[encoded data removed]",
      "text/plain": [
       "<Figure size 432x288 with 1 Axes>"
      ]
     },
     "metadata": {
      "needs_background": "light"
     },
     "output_type": "display_data"
    }
   ],
   "source": [
    "from sklearn.cluster import KMeans\n",
    "wcss=[]\n",
    "for i in range(1, 11):\n",
    "\tkmeans=KMeans(n_clusters = i , init = 'k-means++', max_iter=200, n_init=10, random_state=0)\n",
    "\tkmeans.fit(x)\n",
    "\twcss.append(kmeans.inertia_)\n",
    "    \n",
    "plt.title('Elbow method to find the best value of k')\n",
    "plt.plot(range(1, 11), wcss)\n",
    "plt.xlabel('Number of clusters')\n",
    "plt.ylabel('WCSS')\n",
    "plt.show()"
   ]
  },
  {
   "cell_type": "code",
   "execution_count": 9,
   "metadata": {},
   "outputs": [
    {
     "ename": "ValueError",
     "evalue": "x and y must be the same size",
     "output_type": "error",
     "traceback": [
      "\u001b[1;31m---------------------------------------------------------------------------\u001b[0m",
      "\u001b[1;31mValueError\u001b[0m                                Traceback (most recent call last)",
      "\u001b[1;32m<ipython-input-9-6d506241a390>\u001b[0m in \u001b[0;36m<module>\u001b[1;34m\u001b[0m\n\u001b[0;32m      6\u001b[0m \u001b[0mplt\u001b[0m\u001b[1;33m.\u001b[0m\u001b[0mscatter\u001b[0m\u001b[1;33m(\u001b[0m\u001b[0mx\u001b[0m\u001b[1;33m[\u001b[0m\u001b[0my_kmeans\u001b[0m\u001b[1;33m==\u001b[0m\u001b[1;36m1\u001b[0m\u001b[1;33m,\u001b[0m \u001b[1;36m0\u001b[0m\u001b[1;33m]\u001b[0m\u001b[1;33m%\u001b[0m\u001b[1;36m1000\u001b[0m\u001b[1;33m,\u001b[0m \u001b[0mx\u001b[0m\u001b[1;33m[\u001b[0m\u001b[0my_kmeans\u001b[0m\u001b[1;33m==\u001b[0m\u001b[1;36m1\u001b[0m\u001b[1;33m,\u001b[0m \u001b[1;36m1\u001b[0m\u001b[1;33m]\u001b[0m\u001b[1;33m,\u001b[0m \u001b[0ms\u001b[0m\u001b[1;33m=\u001b[0m\u001b[1;36m10\u001b[0m\u001b[1;33m,\u001b[0m \u001b[0mc\u001b[0m\u001b[1;33m=\u001b[0m\u001b[1;34m'blue'\u001b[0m\u001b[1;33m)\u001b[0m\u001b[1;33m\u001b[0m\u001b[1;33m\u001b[0m\u001b[0m\n\u001b[0;32m      7\u001b[0m \u001b[0mplt\u001b[0m\u001b[1;33m.\u001b[0m\u001b[0mscatter\u001b[0m\u001b[1;33m(\u001b[0m\u001b[0mx\u001b[0m\u001b[1;33m[\u001b[0m\u001b[0my_kmeans\u001b[0m\u001b[1;33m==\u001b[0m\u001b[1;36m2\u001b[0m\u001b[1;33m,\u001b[0m \u001b[1;36m0\u001b[0m\u001b[1;33m]\u001b[0m\u001b[1;33m%\u001b[0m\u001b[1;36m1000\u001b[0m\u001b[1;33m,\u001b[0m \u001b[0mx\u001b[0m\u001b[1;33m[\u001b[0m\u001b[0my_kmeans\u001b[0m\u001b[1;33m==\u001b[0m\u001b[1;36m2\u001b[0m\u001b[1;33m,\u001b[0m \u001b[1;36m1\u001b[0m\u001b[1;33m]\u001b[0m\u001b[1;33m,\u001b[0m \u001b[0ms\u001b[0m\u001b[1;33m=\u001b[0m\u001b[1;36m10\u001b[0m\u001b[1;33m,\u001b[0m \u001b[0mc\u001b[0m\u001b[1;33m=\u001b[0m\u001b[1;34m'green'\u001b[0m\u001b[1;33m)\u001b[0m\u001b[1;33m\u001b[0m\u001b[1;33m\u001b[0m\u001b[0m\n\u001b[1;32m----> 8\u001b[1;33m \u001b[0mplt\u001b[0m\u001b[1;33m.\u001b[0m\u001b[0mscatter\u001b[0m\u001b[1;33m(\u001b[0m\u001b[0mx\u001b[0m\u001b[1;33m[\u001b[0m\u001b[0my_kmeans\u001b[0m\u001b[1;33m==\u001b[0m\u001b[1;36m3\u001b[0m\u001b[1;33m,\u001b[0m \u001b[1;36m0\u001b[0m\u001b[1;33m]\u001b[0m\u001b[1;33m%\u001b[0m\u001b[1;36m1000\u001b[0m\u001b[1;33m,\u001b[0m \u001b[0mx\u001b[0m\u001b[1;33m[\u001b[0m\u001b[0my_kmeans\u001b[0m\u001b[1;33m==\u001b[0m\u001b[1;36m2\u001b[0m\u001b[1;33m,\u001b[0m \u001b[1;36m1\u001b[0m\u001b[1;33m]\u001b[0m\u001b[1;33m,\u001b[0m \u001b[0ms\u001b[0m\u001b[1;33m=\u001b[0m\u001b[1;36m10\u001b[0m\u001b[1;33m,\u001b[0m \u001b[0mc\u001b[0m\u001b[1;33m=\u001b[0m\u001b[1;34m'cyan'\u001b[0m\u001b[1;33m)\u001b[0m\u001b[1;33m\u001b[0m\u001b[1;33m\u001b[0m\u001b[0m\n\u001b[0m\u001b[0;32m      9\u001b[0m \u001b[0mplt\u001b[0m\u001b[1;33m.\u001b[0m\u001b[0mtitle\u001b[0m\u001b[1;33m(\u001b[0m\u001b[1;34m'Group(Cluster) of friends based on K-Means'\u001b[0m\u001b[1;33m)\u001b[0m\u001b[1;33m\u001b[0m\u001b[1;33m\u001b[0m\u001b[0m\n\u001b[0;32m     10\u001b[0m \u001b[0mplt\u001b[0m\u001b[1;33m.\u001b[0m\u001b[0mxlabel\u001b[0m\u001b[1;33m(\u001b[0m\u001b[1;34m'Scholar_ID mod 100---->'\u001b[0m\u001b[1;33m)\u001b[0m\u001b[1;33m\u001b[0m\u001b[1;33m\u001b[0m\u001b[0m\n",
      "\u001b[1;32m~\\Anaconda3\\lib\\site-packages\\matplotlib\\pyplot.py\u001b[0m in \u001b[0;36mscatter\u001b[1;34m(x, y, s, c, marker, cmap, norm, vmin, vmax, alpha, linewidths, verts, edgecolors, plotnonfinite, data, **kwargs)\u001b[0m\n\u001b[0;32m   2845\u001b[0m         \u001b[0mverts\u001b[0m\u001b[1;33m=\u001b[0m\u001b[0mverts\u001b[0m\u001b[1;33m,\u001b[0m \u001b[0medgecolors\u001b[0m\u001b[1;33m=\u001b[0m\u001b[0medgecolors\u001b[0m\u001b[1;33m,\u001b[0m\u001b[1;33m\u001b[0m\u001b[1;33m\u001b[0m\u001b[0m\n\u001b[0;32m   2846\u001b[0m         plotnonfinite=plotnonfinite, **({\"data\": data} if data is not\n\u001b[1;32m-> 2847\u001b[1;33m         None else {}), **kwargs)\n\u001b[0m\u001b[0;32m   2848\u001b[0m     \u001b[0msci\u001b[0m\u001b[1;33m(\u001b[0m\u001b[0m__ret\u001b[0m\u001b[1;33m)\u001b[0m\u001b[1;33m\u001b[0m\u001b[1;33m\u001b[0m\u001b[0m\n\u001b[0;32m   2849\u001b[0m     \u001b[1;32mreturn\u001b[0m \u001b[0m__ret\u001b[0m\u001b[1;33m\u001b[0m\u001b[1;33m\u001b[0m\u001b[0m\n",
      "\u001b[1;32m~\\Anaconda3\\lib\\site-packages\\matplotlib\\__init__.py\u001b[0m in \u001b[0;36minner\u001b[1;34m(ax, data, *args, **kwargs)\u001b[0m\n\u001b[0;32m   1599\u001b[0m     \u001b[1;32mdef\u001b[0m \u001b[0minner\u001b[0m\u001b[1;33m(\u001b[0m\u001b[0max\u001b[0m\u001b[1;33m,\u001b[0m \u001b[1;33m*\u001b[0m\u001b[0margs\u001b[0m\u001b[1;33m,\u001b[0m \u001b[0mdata\u001b[0m\u001b[1;33m=\u001b[0m\u001b[1;32mNone\u001b[0m\u001b[1;33m,\u001b[0m \u001b[1;33m**\u001b[0m\u001b[0mkwargs\u001b[0m\u001b[1;33m)\u001b[0m\u001b[1;33m:\u001b[0m\u001b[1;33m\u001b[0m\u001b[1;33m\u001b[0m\u001b[0m\n\u001b[0;32m   1600\u001b[0m         \u001b[1;32mif\u001b[0m \u001b[0mdata\u001b[0m \u001b[1;32mis\u001b[0m \u001b[1;32mNone\u001b[0m\u001b[1;33m:\u001b[0m\u001b[1;33m\u001b[0m\u001b[1;33m\u001b[0m\u001b[0m\n\u001b[1;32m-> 1601\u001b[1;33m             \u001b[1;32mreturn\u001b[0m \u001b[0mfunc\u001b[0m\u001b[1;33m(\u001b[0m\u001b[0max\u001b[0m\u001b[1;33m,\u001b[0m \u001b[1;33m*\u001b[0m\u001b[0mmap\u001b[0m\u001b[1;33m(\u001b[0m\u001b[0msanitize_sequence\u001b[0m\u001b[1;33m,\u001b[0m \u001b[0margs\u001b[0m\u001b[1;33m)\u001b[0m\u001b[1;33m,\u001b[0m \u001b[1;33m**\u001b[0m\u001b[0mkwargs\u001b[0m\u001b[1;33m)\u001b[0m\u001b[1;33m\u001b[0m\u001b[1;33m\u001b[0m\u001b[0m\n\u001b[0m\u001b[0;32m   1602\u001b[0m \u001b[1;33m\u001b[0m\u001b[0m\n\u001b[0;32m   1603\u001b[0m         \u001b[0mbound\u001b[0m \u001b[1;33m=\u001b[0m \u001b[0mnew_sig\u001b[0m\u001b[1;33m.\u001b[0m\u001b[0mbind\u001b[0m\u001b[1;33m(\u001b[0m\u001b[0max\u001b[0m\u001b[1;33m,\u001b[0m \u001b[1;33m*\u001b[0m\u001b[0margs\u001b[0m\u001b[1;33m,\u001b[0m \u001b[1;33m**\u001b[0m\u001b[0mkwargs\u001b[0m\u001b[1;33m)\u001b[0m\u001b[1;33m\u001b[0m\u001b[1;33m\u001b[0m\u001b[0m\n",
      "\u001b[1;32m~\\Anaconda3\\lib\\site-packages\\matplotlib\\axes\\_axes.py\u001b[0m in \u001b[0;36mscatter\u001b[1;34m(self, x, y, s, c, marker, cmap, norm, vmin, vmax, alpha, linewidths, verts, edgecolors, plotnonfinite, **kwargs)\u001b[0m\n\u001b[0;32m   4442\u001b[0m         \u001b[0my\u001b[0m \u001b[1;33m=\u001b[0m \u001b[0mnp\u001b[0m\u001b[1;33m.\u001b[0m\u001b[0mma\u001b[0m\u001b[1;33m.\u001b[0m\u001b[0mravel\u001b[0m\u001b[1;33m(\u001b[0m\u001b[0my\u001b[0m\u001b[1;33m)\u001b[0m\u001b[1;33m\u001b[0m\u001b[1;33m\u001b[0m\u001b[0m\n\u001b[0;32m   4443\u001b[0m         \u001b[1;32mif\u001b[0m \u001b[0mx\u001b[0m\u001b[1;33m.\u001b[0m\u001b[0msize\u001b[0m \u001b[1;33m!=\u001b[0m \u001b[0my\u001b[0m\u001b[1;33m.\u001b[0m\u001b[0msize\u001b[0m\u001b[1;33m:\u001b[0m\u001b[1;33m\u001b[0m\u001b[1;33m\u001b[0m\u001b[0m\n\u001b[1;32m-> 4444\u001b[1;33m             \u001b[1;32mraise\u001b[0m \u001b[0mValueError\u001b[0m\u001b[1;33m(\u001b[0m\u001b[1;34m\"x and y must be the same size\"\u001b[0m\u001b[1;33m)\u001b[0m\u001b[1;33m\u001b[0m\u001b[1;33m\u001b[0m\u001b[0m\n\u001b[0m\u001b[0;32m   4445\u001b[0m \u001b[1;33m\u001b[0m\u001b[0m\n\u001b[0;32m   4446\u001b[0m         \u001b[1;32mif\u001b[0m \u001b[0ms\u001b[0m \u001b[1;32mis\u001b[0m \u001b[1;32mNone\u001b[0m\u001b[1;33m:\u001b[0m\u001b[1;33m\u001b[0m\u001b[1;33m\u001b[0m\u001b[0m\n",
      "\u001b[1;31mValueError\u001b[0m: x and y must be the same size"
     ]
    },
    {
     "data": {
      "image/png": "[encoded data removed]",
      "text/plain": [
       "<Figure size 432x288 with 1 Axes>"
      ]
     },
     "metadata": {
      "needs_background": "light"
     },
     "output_type": "display_data"
    }
   ],
   "source": [
    "kmeans=KMeans(n_clusters = 4 , init = 'k-means++', max_iter=200, n_init=10, random_state=0)\n",
    "y_kmeans=kmeans.fit_predict(x)\n",
    "\n",
    "#Visualizing the results obtained by plotting scholar id vs income...\n",
    "plt.scatter(x[y_kmeans==0, 0]%1000, x[y_kmeans==0, 1], s=10, c='red')\n",
    "plt.scatter(x[y_kmeans==1, 0]%1000, x[y_kmeans==1, 1], s=10, c='blue')\n",
    "plt.scatter(x[y_kmeans==2, 0]%1000, x[y_kmeans==2, 1], s=10, c='green')\n",
    "plt.scatter(x[y_kmeans==3, 0]%1000, x[y_kmeans==2, 1], s=10, c='cyan')\n",
    "plt.title('Group(Cluster) of friends based on K-Means')\n",
    "plt.xlabel('Scholar_ID mod 100---->')\n",
    "plt.ylabel('Spending Score----->')\n",
    "plt.legend()\n",
    "plt.show()"
   ]
  },
  {
   "cell_type": "code",
   "execution_count": null,
   "metadata": {},
   "outputs": [],
   "source": []
  }
 ],
 "metadata": {
  "kernelspec": {
   "display_name": "Python 3",
   "language": "python",
   "name": "python3"
  },
  "language_info": {
   "codemirror_mode": {
    "name": "ipython",
    "version": 3
   },
   "file_extension": ".py",
   "mimetype": "text/x-python",
   "name": "python",
   "nbconvert_exporter": "python",
   "pygments_lexer": "ipython3",
   "version": "3.7.4"
  }
 },
 "nbformat": 4,
 "nbformat_minor": 2
}
